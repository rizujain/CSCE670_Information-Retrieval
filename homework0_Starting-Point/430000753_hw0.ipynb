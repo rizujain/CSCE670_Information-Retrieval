{
 "cells": [
  {
   "cell_type": "markdown",
   "metadata": {},
   "source": [
    "#### CSCE 670 :: Information Storage and Retrieval :: Texas A&M University :: Spring 2020\n",
    "\n",
    "\n",
    "# Homework 0: Starting Point\n",
    "\n",
    "### 100 points [2% of your final grade]\n",
    "\n",
    "- **Due Sunday, January 19 by 11:59pm**\n",
    "\n",
    "*Goals of this homework:* The objective of this homework is to help you prepare your development environment. You will get familiar with Python in a Jupyter notebook, and then do some beginning exercises.\n",
    "\n",
    "*Submission instructions (eCampus):* To submit your homework, rename this notebook as `UIN_hw0.ipynb`. For example, my homework submission would be something like `555001234_hw0.ipynb`. Submit this notebook via eCampus (look for the homework 0 assignment there). Your notebook should be completely self-contained, with the results visible in the notebook. We should not have to run any code from the command line, nor should we have to run your code within the notebook (though we reserve the right to do so). So please run all the cells for us, and then submit. \n",
    "\n",
    "*Late policy:* For this homework, no late submissions will be accepted. "
   ]
  },
  {
   "cell_type": "markdown",
   "metadata": {},
   "source": [
    "## Jupyter, Python, and our Expectations\n",
    "\n",
    "This homework, all subsequent homeworks, and your project will use iPython in a Jupyter notebook. iPython is just an interactive shell for programming in the Python language. A few years ago, the developers created a generic interactive shell called Jupyter that supports languages beyond just Python. This can be a bit confusing, and we'll add a bit to the confusion by referring to iPython and Jupyter interchangeably in this course.\n",
    "\n",
    "With respect to Python, we do not expect you to have any prior experience. We do, however, expect you to have proficiency in some programming language (so you've seen loops, conditionals, functions, etc.) and a willingness to experiment and learn on your own. Python is a fun language and you should be able to pick up the necessary portions as we move along; however, this may require you to spend some extra cycles consulting online documentation, referring to a Python book, or scouring over StackOverflow. \n",
    "\n",
    "A few basic Python pointers:\n",
    "* http://introtopython.org\n",
    "* https://docs.python.org/3/tutorial/\n",
    "* http://mbakker7.github.io/exploratory_computing_with_python/ [particularly the basic Python language ones]\n",
    "\n",
    "\n",
    "We expect your code to be well-documented with appropriate comments. We prefer meaningful variable names and function names. We also expect your code to be compact and sensible -- no super-long lines, nor dense unintelligible lines of code.\n",
    "\n",
    "In general, Python code is often run from standalone Python modules or files; for this class, we will often run Python from here within the Jupyter notebook.\n",
    "\n",
    "Now that you're ready, let's take a look at this Jupyter notebook. You'll notice that it is composed of cells. Some cells have text (like this one), while others contain code and comments. This cell is written in **Markdown** a simple text-to-HTML language. You can find a cheat sheet for Markdown here: https://github.com/adam-p/markdown-here/wiki/Markdown-Cheatsheet. You can toggle a cell between Markdown and code with the toggle button up there on the menu bar.\n",
    "\n",
    "The cell below contains code and can be **executed** by hitting the **Run** button on the menu bar or by hitting **shift + enter**."
   ]
  },
  {
   "cell_type": "markdown",
   "metadata": {},
   "source": [
    "Submitted By: \n",
    "\n",
    "- Name - Rizu Jain\n",
    "- UIN - 430000753"
   ]
  },
  {
   "cell_type": "code",
   "execution_count": 1,
   "metadata": {},
   "outputs": [
    {
     "name": "stdout",
     "output_type": "stream",
     "text": [
      "Hello world!\n"
     ]
    }
   ],
   "source": [
    "# this is a comment\n",
    "# you can execute this cell by hitting shift+enter\n",
    "# the output will appear immediately below\n",
    "print('Hello world!')"
   ]
  },
  {
   "cell_type": "markdown",
   "metadata": {},
   "source": [
    "Since Jupyter is just an interactive shell around Python, you can define functions. For example:"
   ]
  },
  {
   "cell_type": "code",
   "execution_count": 2,
   "metadata": {},
   "outputs": [
    {
     "data": {
      "text/plain": [
       "27"
      ]
     },
     "execution_count": 2,
     "metadata": {},
     "output_type": "execute_result"
    }
   ],
   "source": [
    "def cubed(x):\n",
    "    \"\"\" Return the cube of a  \n",
    "        value \"\"\"\n",
    "    return x ** 3\n",
    "\n",
    "cubed(3)"
   ]
  },
  {
   "cell_type": "markdown",
   "metadata": {},
   "source": [
    "You can even access the filesystem with commands like `ls` or `pwd`"
   ]
  },
  {
   "cell_type": "markdown",
   "metadata": {},
   "source": [
    "## Getting Started with Numpy and matplotlib\n",
    "\n",
    "In this part, we're going to get familiar with two important libraries -- Numpy and matplotlib.\n",
    "\n",
    "### Into to Numpy\n",
    "Since Python is an interpreted language, it might not seem like the best choice for data-intensive work. Luckily, almost all of our data workflow stack is built on top of Numpy, a Python library that adds support for large, multi-dimensional arrays and matrices, along with a large library of high-level mathematical functions to operate on these arrays."
   ]
  },
  {
   "cell_type": "code",
   "execution_count": 3,
   "metadata": {},
   "outputs": [
    {
     "name": "stdout",
     "output_type": "stream",
     "text": [
      "Make a 4 row x 2 column matrix of random numbers\n",
      "[[0.3357578  0.07186454]\n",
      " [0.55586376 0.51544882]\n",
      " [0.27472627 0.81986996]\n",
      " [0.17060943 0.05713116]]\n",
      "\n",
      "Add 10 to every element\n",
      "[[10.3357578  10.07186454]\n",
      " [10.55586376 10.51544882]\n",
      " [10.27472627 10.81986996]\n",
      " [10.17060943 10.05713116]]\n",
      "\n",
      "Get the element at row 3, column 1\n",
      "10.05713116358367\n",
      "\n",
      "Get the first row\n",
      "[10.3357578  10.07186454]\n",
      "\n"
     ]
    }
   ],
   "source": [
    "import numpy as np\n",
    "\n",
    "print(\"Make a 4 row x 2 column matrix of random numbers\")\n",
    "x = np.random.random((4, 2))\n",
    "print(x)\n",
    "print()\n",
    "\n",
    "print(\"Add 10 to every element\")\n",
    "x = x + 10\n",
    "print(x)\n",
    "print()\n",
    "\n",
    "print(\"Get the element at row 3, column 1\")\n",
    "print(x[3, 1])\n",
    "print()\n",
    "\n",
    "print(\"Get the first row\")\n",
    "print(x[0, :])\n",
    "print()"
   ]
  },
  {
   "cell_type": "markdown",
   "metadata": {},
   "source": [
    "Now, it's your turn. Find the **maximum**, **minimum**, and **mean** of the array `x` you just created. This does not require writing a loop. In the code cell below, type `x.m`+`<TAB>`, to find built-in operations that may help you out."
   ]
  },
  {
   "cell_type": "code",
   "execution_count": 4,
   "metadata": {},
   "outputs": [
    {
     "name": "stdout",
     "output_type": "stream",
     "text": [
      "Maximum:\n",
      "10.819869958427207\n",
      "Minimum:\n",
      "10.05713116358367\n",
      "Mean:\n",
      "10.35015896871461\n"
     ]
    }
   ],
   "source": [
    "print(\"Maximum:\")\n",
    "# please find and print the maximum of the array\n",
    "# your code here\n",
    "print(np.ndarray.max(x))\n",
    "\n",
    "print(\"Minimum:\")\n",
    "# please find and print the minimum of the array\n",
    "# your code here\n",
    "print(np.ndarray.min(x))\n",
    "\n",
    "print(\"Mean:\")\n",
    "# please find and print the mean of the array\n",
    "# your code here\n",
    "print(np.ndarray.mean(x))"
   ]
  },
  {
   "cell_type": "markdown",
   "metadata": {},
   "source": [
    "That wasy easy! Now, let's see if you can generate 500 numbers from a uniform distribution between 0 and 50,000, inclusive. That is each random number could be 0, 1, 2, ..., 50,000 with equal chance. Please show us the **maximum**, **minimum**, and **mean** of these 500 random numbers. Hint: you can take a look at `np.random`. "
   ]
  },
  {
   "cell_type": "code",
   "execution_count": 5,
   "metadata": {},
   "outputs": [
    {
     "name": "stdout",
     "output_type": "stream",
     "text": [
      "Maximum:\n",
      "49969\n",
      "Minimum:\n",
      "30\n",
      "Mean:\n",
      "23592.844\n"
     ]
    }
   ],
   "source": [
    "# your code here\n",
    "# random.randint will generate random numbers with uniform distribution\n",
    "# low inclusive and high exclusive\n",
    "# high is optional, the low is taken as 0.\n",
    "y = np.random.randint(50001,size=(50,10))\n",
    "\n",
    "print(\"Maximum:\")\n",
    "print(np.ndarray.max(y))\n",
    "\n",
    "print(\"Minimum:\")\n",
    "print(np.ndarray.min(y))\n",
    "\n",
    "print(\"Mean:\")\n",
    "print(np.ndarray.mean(y))"
   ]
  },
  {
   "cell_type": "markdown",
   "metadata": {},
   "source": [
    "### Intro to matplotlib\n",
    "The most widespread Python plotting library is matplotlib. With it, you can create graphs, charts, basic maps, and other data visualizations. Later in the semester, we'll sometimes use `seaborn`, a library built on top of matplotlib that provides even more beautiful charts.\n",
    "\n",
    "Below, we provide some simple x and y coordinates that are then plotted. You should update the plot to include:\n",
    "* a label for the x-axis (call it 'widgets')\n",
    "* a label for the y-axis (call it 'price')\n",
    "* a label for the x, y1 curve (call it 'Alice')\n",
    "* a label for the x, y2 curve (call it 'Bob')\n",
    "* a legend in the lower right corner"
   ]
  },
  {
   "cell_type": "code",
   "execution_count": 6,
   "metadata": {},
   "outputs": [
    {
     "data": {
      "image/png": "[encoded data removed]",
      "text/plain": [
       "<Figure size 432x288 with 1 Axes>"
      ]
     },
     "metadata": {
      "needs_background": "light"
     },
     "output_type": "display_data"
    }
   ],
   "source": [
    "# this line prepares IPython for working with matplotlib\n",
    "%matplotlib inline  \n",
    "\n",
    "import matplotlib.pyplot as plt  \n",
    "\n",
    "x = [0, 1, 2, 3, 4]  \n",
    "y1 = [10, 12, 10, 10, 12]\n",
    "y2 = [8, 9, 9, 11, 12]\n",
    "plt.plot(x, y1)\n",
    "plt.plot(x, y2)\n",
    "plt.xlabel('widgets')\n",
    "plt.ylabel('price')\n",
    "plt.legend(['Alice','Bob'], loc='lower right');\n",
    "# your code here (plus you may need to modify the previous two lines)"
   ]
  },
  {
   "cell_type": "markdown",
   "metadata": {},
   "source": [
    "## Getting started with File Input & Output\n",
    "\n",
    "Python can easily handle reading and writing files. As far as Python is concerned, a file is just a string (often very large!) stored on your local file system, that you can read or write, gradually or all together.\n",
    "\n",
    "### Writing Files\n",
    "\n",
    "*open()* returns a file object, and is most commonly used with two arguments: *open(filename, mode)*."
   ]
  },
  {
   "cell_type": "code",
   "execution_count": 7,
   "metadata": {},
   "outputs": [],
   "source": [
    "outFile = open('sample.txt', 'w')\n",
    "outFile.write('The first line\\nThe second line\\nThe third line\\n')\n",
    "outFile.close()"
   ]
  },
  {
   "cell_type": "markdown",
   "metadata": {},
   "source": [
    "The first line creates a file object, which links Python to your computer’s file system. The first parameter in the file constructor gives the file name, *sample.txt*. The second parameter indicates how you use the file. The 'w' is short for **w**rite. If the file already existed, the old contents are destroyed.\n",
    "\n",
    "And 'a' opens the file for **a**ppending; any data written to the file is automatically added to the end. 'r+' opens the file for both reading and writing.\n",
    "\n",
    "The *close* line is essential for Python to make sure everything is really written, and to relinquish control of the file."
   ]
  },
  {
   "cell_type": "markdown",
   "metadata": {},
   "source": [
    "### Methods of File Objects\n",
    "\n",
    "To read a file’s contents, call *f.read(size)*, which reads some quantity of data and returns it as a string. *size* is an optional numeric argument. When *size* is omitted or negative, the entire contents of the file will be read and returned."
   ]
  },
  {
   "cell_type": "code",
   "execution_count": 8,
   "metadata": {},
   "outputs": [
    {
     "data": {
      "text/plain": [
       "'The first line\\nThe second line\\nThe third line\\n'"
      ]
     },
     "execution_count": 8,
     "metadata": {},
     "output_type": "execute_result"
    }
   ],
   "source": [
    "outFile = open('sample.txt', 'r')\n",
    "outFile.read()"
   ]
  },
  {
   "cell_type": "markdown",
   "metadata": {},
   "source": [
    "For reading lines from a file, you can loop over the file object. This is memory efficient, fast, and leads to simple code:"
   ]
  },
  {
   "cell_type": "code",
   "execution_count": 9,
   "metadata": {},
   "outputs": [
    {
     "name": "stdout",
     "output_type": "stream",
     "text": [
      "The first line\n",
      "\n",
      "The second line\n",
      "\n",
      "The third line\n",
      "\n"
     ]
    }
   ],
   "source": [
    "outFile = open('sample.txt', 'r')\n",
    "for line in outFile:\n",
    "    print(line)"
   ]
  },
  {
   "cell_type": "markdown",
   "metadata": {},
   "source": [
    "It is good practice to use the *with* keyword when dealing with file objects. This has the advantage that the file is properly closed after its suite finishes, even if an exception is raised on the way. It is also much shorter than writing equivalent try-finally blocks:"
   ]
  },
  {
   "cell_type": "code",
   "execution_count": 10,
   "metadata": {},
   "outputs": [
    {
     "data": {
      "text/plain": [
       "'The first line\\nThe second line\\nThe third line\\n'"
      ]
     },
     "execution_count": 10,
     "metadata": {},
     "output_type": "execute_result"
    }
   ],
   "source": [
    "with open('sample.txt', 'r') as f:\n",
    "    outFile = f.read()\n",
    "outFile"
   ]
  },
  {
   "cell_type": "code",
   "execution_count": 11,
   "metadata": {},
   "outputs": [
    {
     "data": {
      "text/plain": [
       "True"
      ]
     },
     "execution_count": 11,
     "metadata": {},
     "output_type": "execute_result"
    }
   ],
   "source": [
    "f.closed"
   ]
  },
  {
   "cell_type": "code",
   "execution_count": 12,
   "metadata": {},
   "outputs": [],
   "source": [
    "with open('sample.txt', 'a') as f:\n",
    "    f.write('The fourth line\\n')"
   ]
  },
  {
   "cell_type": "code",
   "execution_count": 13,
   "metadata": {},
   "outputs": [
    {
     "name": "stdout",
     "output_type": "stream",
     "text": [
      "['The first line\\n', 'The second line\\n', 'The third line\\n', 'The fourth line\\n']\n"
     ]
    }
   ],
   "source": [
    "with open('sample.txt', 'r') as f:\n",
    "    print(f.readlines())  # readlines – reads the entire file and returns it as a list of strings"
   ]
  },
  {
   "cell_type": "markdown",
   "metadata": {},
   "source": [
    "### Open a Remote File via URL\n",
    "\n",
    "Python can easily access the content of a webpage via its URL, and print out locally line-by-line without saving a local copy of the file. "
   ]
  },
  {
   "cell_type": "code",
   "execution_count": 14,
   "metadata": {},
   "outputs": [
    {
     "name": "stdout",
     "output_type": "stream",
     "text": [
      "b'<html><head> <TITLE>CSCE 670 :: Information Storage and Retrieval :: Spring\\n'\n",
      "b'2020</TITLE> </head>\\n'\n",
      "b'\\n'\n",
      "b'<body bgcolor=white text=black link=blue vlink=blue alink=blue>\\n'\n",
      "b'\\n'\n",
      "b'\\n'\n",
      "b'<h1> CSCE 670 :: Information Storage and Retrieval :: Spring 2020 </h1> \\n'\n",
      "b'\\n'\n",
      "b'<p><a href=\"index.html\">Back to main page</a> \\n'\n",
      "b'\\n'\n",
      "b'<H3><A NAME = \"project-overview\">Project Overview</a></H3> \\n'\n",
      "b'\\n'\n",
      "b'<p>For the project, you will work in teams of three or four on a problem of \\n'\n",
      "b'your choosing that is interesting, significant, and relevant to this course. You have great latitude in what you work on, so make it count! Your main requirements are:\\n'\n",
      "b'\\n'\n",
      "b'<ul>\\n'\n",
      "b'<li> Your project code must live on github. We prefer it to be public. However, you can claim a private github account (with a .edu email address).\\n'\n",
      "b'<li> Your project must use some non-trivial data that your team collects. You may choose to sample social media data (e.g., using an API), download an existing collection, write a simple crawler to collect pre-organized data, or write your own custom web crawler.\\n'\n",
      "b'<li> Your project must implement or build upon at least one core algorithm from a recent research paper published in a venue like SIGIR, WSDM, WWW, etc.  \\n'\n",
      "b'</ul>\\n'\n",
      "b'\\n'\n",
      "b'<p>We will hold a project showcase during the final week of class. \\n'\n",
      "b'\\n'\n",
      "b'\\n'\n",
      "b'<hr>\\n'\n",
      "b'<h4>Grading Criteria</h4> \\n'\n",
      "b'<p>The course project counts for 25% of your final grade. You will receive an overall rating based on the performance of your entire team, as well as an individual rating based on the feedback of your teammate as well as contributions to the project github repo. Typically, the individual rating can bump or depress your project grade by some small delta (say moving a group rating of 85/100 plus or minus 5 points). Rarely, a project score may be depressed significantly if a group member makes only a superficial contribution to a project.\\n'\n",
      "b'\\n'\n",
      "b'Your project will be graded based on these key milestones:\\n'\n",
      "b' \\n'\n",
      "b'<ul>\\n'\n",
      "b'<li> [10%] Project proposal: Due March 22 (Sunday) by 11:59pm\\n'\n",
      "b'<li> [50%] Project showcase: in-class April 27 and 28\\n'\n",
      "b'<li> [40%] Project website: Due April 30 (Thursday) by 11:59pm\\n'\n",
      "b'</ul>\\n'\n",
      "b'\\n'\n",
      "b'Recall that your late days are applicable to homework assignments only. All project milestones are due on their respective due date. No late project milestones will be accepted.\\n'\n",
      "b'\\n'\n",
      "b'<hr>\\n'\n",
      "b'<h4>Project proposal</h4> \\n'\n",
      "b'<p>Each group should post a 1-2 page project proposal in PDF to the Piazza course discussion forum. Be sure to start a new thread for your proposal and name the thread \"Proposal: [project_name]\", where [project_name] is a brief, descriptive name of your project. Your name should be something memorable! \\n'\n",
      "b'<br/>\\n'\n",
      "b'\\n'\n",
      "b'\\n'\n",
      "b'A proposal should address the following issues:\\n'\n",
      "b'\\n'\n",
      "b'<ul>\\n'\n",
      "b'<li>What is your research question? Clearly define the research problem/question.\\n'\n",
      "b'<li>Why is this an interesting question to ask and why would we care about the answer to this question or a solution to the problem.\\n'\n",
      "b'<li>Has any existing research work tried to answer the same or a similar question, and if so, what is still unknown?\\n'\n",
      "b'<li>How do you plan to work out the answer to the question. (At the proposal stage, you are only expected to have a sketch of your methods.)\\n'\n",
      "b'<li>How would you evaluate your solution. That is, how do you plan to demonstrate that your solution/answer is good or is reasonable.\\n'\n",
      "b'<li>A rough timeline to show when you expect to finish what. List a couple of milestones.\\n'\n",
      "b'</ul>\\n'\n",
      "b'\\n'\n",
      "b'\\n'\n",
      "b'\\n'\n",
      "b'\\n'\n",
      "b'\\n'\n",
      "b'\\n'\n",
      "b'\\n'\n",
      "b'\\n'\n",
      "b'\\n'\n",
      "b'<hr>\\n'\n",
      "b'<h4>Project showcase</h4> \\n'\n",
      "b'We will host a project showcase during our last week of class. \\n'\n",
      "b'\\n'\n",
      "b'<p>On Monday, April 27 and Tuesday, April 28 we will hold an in-class POSTER SESSION. \\n'\n",
      "b'\\n'\n",
      "b'<p>All teams must create a poster. Your poster should be MAX 30 inches horizontal by 40 inches vertical. Your poster should be structured somewhat like your website -- that is, you should provide a motivation, your approach (technical details), what you learned, what is next. You can print your poster in the department. Please use <a href=\"https://engineering.tamu.edu/media/1381416/PlotterPrintingForm2014Editable.pdf\">this printer form</a> if you want me to pay for your poster. We will have posterboards and easels set up in the classroom.\\n'\n",
      "b'\\n'\n",
      "b'<p>Be sure to highlight the key technical innovations, findings, takeaways. Impress us! This is your chance.\\n'\n",
      "b'\\n'\n",
      "b'\\n'\n",
      "b'<hr>\\n'\n",
      "b'<h4>Project website (post link to Piazza)</h4>\\n'\n",
      "b'Your team should create a public website that shows off your project. You must use a well-known hosting service -- e.g., Google Sites, Github Pages, Wix (ugh, not my favorite) -- so that we have some assurances your site will not disappear. Your site should essentially be a web-based version of a project report. So, we would expect to see the big questions and takeaways of your project.\\n'\n",
      "b'\\n'\n",
      "b'<ul>\\n'\n",
      "b'<li>Introduction / problem background / motivation -- what is the research question? Why is it important?\\n'\n",
      "b'<li>Related work -- what existing work is there? Include links. What is the difference with what you propose?\\n'\n",
      "b'<li>Proposed solution / methods used -- give us the technical details about what you have done.\\n'\n",
      "b'<li>Evaluation and analysis of results -- what did you discover? \\n'\n",
      "b'<li>Conclusions / discussion -- What was challenging about the project? What would you like to do next? What are the open issues?\\n'\n",
      "b'</ul>\\n'\n",
      "b'\\n'\n",
      "b'Your website should also include: \\n'\n",
      "b'<ul>\\n'\n",
      "b'<li>Link to your github repository.\\n'\n",
      "b'<li>The data you used (raw or possibly a link to a cloud storage provider).\\n'\n",
      "b'<li>Link to your poster (PDF or similar).\\n'\n",
      "b'</ul>\\n'\n",
      "b'\\n'\n",
      "b'\\n'\n",
      "b'<P> <BR> <BR>\\n'\n",
      "b'</body>\\n'\n",
      "b'</html>'\n"
     ]
    }
   ],
   "source": [
    "import urllib  # the lib that handles the url stuff\n",
    "\n",
    "url = \"http://courses.cse.tamu.edu/caverlee/csce670/project.html\"\n",
    "\n",
    "# your code here: open the url. Hint: take a look at urllib2.urlopen\n",
    "webpage = urllib.request.urlopen(url)\n",
    "\n",
    "# your code here: now print out each line\n",
    "for line in webpage:\n",
    "    print(line)"
   ]
  },
  {
   "cell_type": "markdown",
   "metadata": {},
   "source": [
    "## Counting Word Frequency\n",
    "\n",
    "One of the most fundamental tasks in information retrieval is to count the frequency of each word in a document.\n",
    "\n",
    "In the following example, we start with a string and split it into a list. We then create an (initially empty) list called *wordfreq*, go through each word in the *wordlist*, and count the number of times that word appears in the whole list. We then add each word’s count to our wordfreq list. Using the *zip* operation, we are able to match the first word of the word list with the first number in the frequency list, the second word and second frequency, and so on. We end up with a list of word and frequency pairs. The *str* function converts any object to a string so that it can be printed."
   ]
  },
  {
   "cell_type": "code",
   "execution_count": 15,
   "metadata": {},
   "outputs": [
    {
     "name": "stdout",
     "output_type": "stream",
     "text": [
      "String\n",
      "it was the best of times it was the worst of times it was the age of wisdom it was the age of foolishness\n",
      "\n",
      "List\n",
      "['it', 'was', 'the', 'best', 'of', 'times', 'it', 'was', 'the', 'worst', 'of', 'times', 'it', 'was', 'the', 'age', 'of', 'wisdom', 'it', 'was', 'the', 'age', 'of', 'foolishness']\n",
      "\n",
      "Frequencies\n",
      "[4, 4, 4, 1, 4, 2, 4, 4, 4, 1, 4, 2, 4, 4, 4, 2, 4, 1, 4, 4, 4, 2, 4, 1]\n",
      "\n",
      "Pairs\n",
      "{'it': 4, 'was': 4, 'the': 4, 'best': 1, 'of': 4, 'times': 2, 'worst': 1, 'age': 2, 'wisdom': 1, 'foolishness': 1}\n"
     ]
    }
   ],
   "source": [
    "wordstring = 'it was the best of times it was the worst of times '\n",
    "wordstring += 'it was the age of wisdom it was the age of foolishness'\n",
    "\n",
    "wordlist = wordstring.split()\n",
    "\n",
    "wordfreq = []\n",
    "for w in wordlist:\n",
    "    wordfreq.append(wordlist.count(w))\n",
    "\n",
    "print(\"String\\n\" + wordstring +\"\\n\")\n",
    "print(\"List\\n\" + str(wordlist) + \"\\n\")\n",
    "print(\"Frequencies\\n\" + str(wordfreq) + \"\\n\")\n",
    "print(\"Pairs\\n\" + str(dict(zip(wordlist, wordfreq))))"
   ]
  },
  {
   "cell_type": "markdown",
   "metadata": {},
   "source": [
    "Now, your job is to open up the url we mentioned a few cells above. Then output the word-frequency pairs in that url, sorted in order of descending frequency. In the case of ours Dickens example here, the output would look something like: [('of', 4), ('it', 4), ('the', 4), ('was', 4), ('age', 2), ('times', 2), ('foolishness', 1), ('worst', 1), ('wisdom', 1), ('best', 1)].\n",
    "\n",
    "Your job is to output a the word-frequency pairs for the url."
   ]
  },
  {
   "cell_type": "code",
   "execution_count": 16,
   "metadata": {},
   "outputs": [
    {
     "name": "stdout",
     "output_type": "stream",
     "text": [
      "Words Count: \n",
      "353\n",
      "\n",
      "Word Frequency Pair in order of decreasing count: \n",
      "{'your': 35, 'a': 30, 'to': 28, 'project': 27, 'the': 27, 'you': 21, 'is': 15, 'what': 15, 'of': 14, 'and': 11, 'or': 10, 'be': 10, 'will': 9, 'should': 9, 'on': 8, 'that': 8, 'we': 8, '--': 8, 'poster': 7, 'work': 6, 'in': 6, 'an': 6, 'question': 6, 'this': 5, 'have': 5, 'must': 5, 'github': 5, 'research': 5, 'proposal': 5, '::': 4, 'for': 4, 'so': 4, 'data': 4, 'rating': 4, 'as': 4, 'by': 4, 'due': 4, 'april': 4, 'are': 4, 'would': 4, 'website': 4, 'link': 4, '': 4, 'storage': 3, 'problem': 3, 'course': 3, 'it': 3, 'can': 3, 'use': 3, 'some': 3, 'team': 3, 'existing': 3, 'like': 3, 'showcase': 3, 'based': 3, 'group': 3, 'if': 3, 'only': 3, 'milestones': 3, 'name': 3, 'why': 3, 'about': 3, 'answer': 3, 'solution': 3, 'how': 3, 'do': 3, 'technical': 3, 'csce': 2, '670': 2, 'information': 2, 'retrieval': 2, 'spring': 2, '2020': 2, 'main': 2, 'page': 2, 'teams': 2, 'interesting': 2, 'public': 2, 'with': 2, 'address': 2, 'may': 2, 'eg': 2, 'write': 2, 'crawler': 2, 'at': 2, 'hold': 2, 'during': 2, 'final': 2, 'week': 2, 'class': 2, 'grade': 2, 'well': 2, 'individual': 2, 'key': 2, 'proposal:': 2, '11:59pm': 2, 'in-class': 2, '27': 2, '28': 2, '30': 2, 'late': 2, 'all': 2, 'post': 2, 'pdf': 2, 'piazza': 2, 'discussion': 2, 'sure': 2, 'thread': 2, 'project_name': 2, 'similar': 2, 'plan': 2, 'methods': 2, 'expect': 2, 'create': 2, 'inches': 2, 'motivation': 2, 'details': 2, 'next': 2, 'takeaways': 2, 'us': 2, 'not': 2, 'site': 2, 'used': 2, 'back': 1, 'overview': 1, 'three': 1, 'four': 1, 'choosing': 1, 'significant': 1, 'relevant': 1, 'great': 1, 'latitude': 1, 'make': 1, 'count': 1, 'requirements': 1, 'are:': 1, 'code': 1, 'live': 1, 'prefer': 1, 'however': 1, 'claim': 1, 'private': 1, 'account': 1, 'edu': 1, 'email': 1, 'non-trivial': 1, 'collects': 1, 'choose': 1, 'sample': 1, 'social': 1, 'media': 1, 'using': 1, 'api': 1, 'download': 1, 'collection': 1, 'simple': 1, 'collect': 1, 'pre-organized': 1, 'own': 1, 'custom': 1, 'web': 1, 'implement': 1, 'build': 1, 'upon': 1, 'least': 1, 'one': 1, 'core': 1, 'algorithm': 1, 'from': 1, 'recent': 1, 'paper': 1, 'published': 1, 'venue': 1, 'sigir': 1, 'wsdm': 1, 'www': 1, 'etc': 1, 'grading': 1, 'criteria': 1, 'counts': 1, '25%': 1, 'receive': 1, 'overall': 1, 'performance': 1, 'entire': 1, 'feedback': 1, 'teammate': 1, 'contributions': 1, 'repo': 1, 'typically': 1, 'bump': 1, 'depress': 1, 'small': 1, 'delta': 1, 'say': 1, 'moving': 1, '85100': 1, 'plus': 1, 'minus': 1, '5': 1, 'points': 1, 'rarely': 1, 'score': 1, 'depressed': 1, 'significantly': 1, 'member': 1, 'makes': 1, 'superficial': 1, 'contribution': 1, 'graded': 1, 'these': 1, 'milestones:': 1, '10%': 1, 'march': 1, '22': 1, 'sunday': 1, '50%': 1, 'showcase:': 1, '40%': 1, 'website:': 1, 'thursday': 1, 'recall': 1, 'days': 1, 'applicable': 1, 'homework': 1, 'assignments': 1, 'their': 1, 'respective': 1, 'date': 1, 'no': 1, 'accepted': 1, 'each': 1, '1-2': 1, 'forum': 1, 'start': 1, 'new': 1, 'where': 1, 'brief': 1, 'descriptive': 1, 'something': 1, 'memorable': 1, 'following': 1, 'issues:': 1, 'clearly': 1, 'define': 1, 'problemquestion': 1, 'ask': 1, 'care': 1, 'has': 1, 'any': 1, 'tried': 1, 'same': 1, 'still': 1, 'unknown': 1, 'out': 1, 'stage': 1, 'expected': 1, 'sketch': 1, 'evaluate': 1, 'demonstrate': 1, 'solutionanswer': 1, 'good': 1, 'reasonable': 1, 'rough': 1, 'timeline': 1, 'show': 1, 'when': 1, 'finish': 1, 'list': 1, 'couple': 1, 'host': 1, 'our': 1, 'last': 1, 'monday': 1, 'tuesday': 1, 'session': 1, 'max': 1, 'horizontal': 1, '40': 1, 'vertical': 1, 'structured': 1, 'somewhat': 1, 'provide': 1, 'approach': 1, 'learned': 1, 'print': 1, 'department': 1, 'please': 1, 'printer': 1, 'form': 1, 'want': 1, 'me': 1, 'pay': 1, 'posterboards': 1, 'easels': 1, 'set': 1, 'up': 1, 'classroom': 1, 'highlight': 1, 'innovations': 1, 'findings': 1, 'impress': 1, 'chance': 1, 'shows': 1, 'off': 1, 'well-known': 1, 'hosting': 1, 'service': 1, 'google': 1, 'sites': 1, 'pages': 1, 'wix': 1, 'ugh': 1, 'my': 1, 'favorite': 1, 'assurances': 1, 'disappear': 1, 'essentially': 1, 'web-based': 1, 'version': 1, 'report': 1, 'see': 1, 'big': 1, 'questions': 1, 'introduction': 1, 'background': 1, 'important': 1, 'related': 1, 'there': 1, 'include': 1, 'links': 1, 'difference': 1, 'propose': 1, 'proposed': 1, 'give': 1, 'done': 1, 'evaluation': 1, 'analysis': 1, 'results': 1, 'did': 1, 'discover': 1, 'conclusions': 1, 'was': 1, 'challenging': 1, 'open': 1, 'issues': 1, 'also': 1, 'include:': 1, 'repository': 1, 'raw': 1, 'possibly': 1, 'cloud': 1, 'provider': 1}\n"
     ]
    }
   ],
   "source": [
    "# your code here\n",
    "\n",
    "import urllib\n",
    "import operator\n",
    "import string\n",
    "from bs4 import BeautifulSoup\n",
    "from collections import Counter\n",
    "\n",
    "url = \"http://courses.cse.tamu.edu/caverlee/csce670/project.html\"\n",
    "\n",
    "# Request url\n",
    "req = urllib.request.Request(url)\n",
    "with urllib.request.urlopen(req) as webpage:\n",
    "    wordstring_html = webpage.read()\n",
    "    \n",
    "# Get text, extract all html tags out.\n",
    "soup = BeautifulSoup(wordstring_html,\"html.parser\")\n",
    "wordstring = soup.get_text()  \n",
    "\n",
    "# Make a list of words, ignore case, split on spaces\n",
    "wordlist = wordstring.lower().split()\n",
    "\n",
    "# Remove irrelevant punctuations\n",
    "# Retain %, -, _ , remove all other punctuations\n",
    "remove_punct = '!\"#$&\\'()*+,./;<=>?@[\\\\]^`{|}~'\n",
    "table = str.maketrans('', '', remove_punct)\n",
    "stripped = [w.translate(table) for w in wordlist]\n",
    "    \n",
    "# using Counter to create a tuple for the wordlist\n",
    "sorted_words = Counter(stripped).most_common()\n",
    "sorted_dict = { key: value for key,value in sorted_words}        \n",
    "\n",
    "print(\"Words Count: \\n\" + str(len(sorted_dict)) + \"\\n\")\n",
    "print(\"Word Frequency Pair in order of decreasing count: \\n\" + str(sorted_dict))\n"
   ]
  },
  {
   "cell_type": "code",
   "execution_count": null,
   "metadata": {},
   "outputs": [],
   "source": []
  }
 ],
 "metadata": {
  "anaconda-cloud": {},
  "kernelspec": {
   "display_name": "Python 3",
   "language": "python",
   "name": "python3"
  },
  "language_info": {
   "codemirror_mode": {
    "name": "ipython",
    "version": 3
   },
   "file_extension": ".py",
   "mimetype": "text/x-python",
   "name": "python",
   "nbconvert_exporter": "python",
   "pygments_lexer": "ipython3",
   "version": "3.7.6"
  }
 },
 "nbformat": 4,
 "nbformat_minor": 2
}
